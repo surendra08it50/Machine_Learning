{
 "cells": [
  {
   "cell_type": "code",
   "execution_count": 10,
   "id": "078d29a0-6e82-43b6-a25d-b8b8c7b7ddb8",
   "metadata": {},
   "outputs": [],
   "source": [
    "import pandas as pd\n",
    "from sklearn.model_selection import train_test_split\n",
    "from sklearn.feature_extraction.text import TfidfVectorizer\n",
    "from sklearn.preprocessing import LabelEncoder\n",
    "from sklearn.ensemble import RandomForestClassifier\n",
    "from sklearn.metrics import classification_report\n",
    "import joblib"
   ]
  },
  {
   "cell_type": "code",
   "execution_count": 11,
   "id": "c518ad07-c6fe-4192-b197-391df6f4002b",
   "metadata": {},
   "outputs": [],
   "source": [
    "# Load the dataset\n",
    "file_path = 'sctask_data_dev_v13_utf8.csv'  # Update with your file path\n",
    "data = pd.read_csv(file_path, encoding='utf-8')"
   ]
  },
  {
   "cell_type": "code",
   "execution_count": 12,
   "id": "ff351c14-6ae2-41c1-a535-2c94e7e631eb",
   "metadata": {},
   "outputs": [
    {
     "data": {
      "text/html": [
       "<div>\n",
       "<style scoped>\n",
       "    .dataframe tbody tr th:only-of-type {\n",
       "        vertical-align: middle;\n",
       "    }\n",
       "\n",
       "    .dataframe tbody tr th {\n",
       "        vertical-align: top;\n",
       "    }\n",
       "\n",
       "    .dataframe thead th {\n",
       "        text-align: right;\n",
       "    }\n",
       "</style>\n",
       "<table border=\"1\" class=\"dataframe\">\n",
       "  <thead>\n",
       "    <tr style=\"text-align: right;\">\n",
       "      <th></th>\n",
       "      <th>cat_item</th>\n",
       "      <th>ticket_management</th>\n",
       "      <th>kbid</th>\n",
       "      <th>short_description</th>\n",
       "    </tr>\n",
       "  </thead>\n",
       "  <tbody>\n",
       "    <tr>\n",
       "      <th>0</th>\n",
       "      <td>Asset Management</td>\n",
       "      <td>Others</td>\n",
       "      <td>Others</td>\n",
       "      <td>Dax Studio - Power BI Software Tool Integrati...</td>\n",
       "    </tr>\n",
       "    <tr>\n",
       "      <th>1</th>\n",
       "      <td>Service Introduction</td>\n",
       "      <td>Others</td>\n",
       "      <td>Others</td>\n",
       "      <td>DEL-01 - Project Initiation Document</td>\n",
       "    </tr>\n",
       "    <tr>\n",
       "      <th>2</th>\n",
       "      <td>Service Introduction</td>\n",
       "      <td>Others</td>\n",
       "      <td>Others</td>\n",
       "      <td>DEL-01 - Project Initiation Document</td>\n",
       "    </tr>\n",
       "    <tr>\n",
       "      <th>3</th>\n",
       "      <td>Service Introduction</td>\n",
       "      <td>Others</td>\n",
       "      <td>Others</td>\n",
       "      <td>DEL-01 - Project Initiation Document</td>\n",
       "    </tr>\n",
       "    <tr>\n",
       "      <th>4</th>\n",
       "      <td>Service Introduction</td>\n",
       "      <td>Others</td>\n",
       "      <td>Others</td>\n",
       "      <td>DEL-01 - Project Initiation Document</td>\n",
       "    </tr>\n",
       "    <tr>\n",
       "      <th>...</th>\n",
       "      <td>...</td>\n",
       "      <td>...</td>\n",
       "      <td>...</td>\n",
       "      <td>...</td>\n",
       "    </tr>\n",
       "    <tr>\n",
       "      <th>16298</th>\n",
       "      <td>Cross-Boarding</td>\n",
       "      <td>WFM</td>\n",
       "      <td>cross_boarding_imc</td>\n",
       "      <td>Cross-boarding: Review Access Request in Iron ...</td>\n",
       "    </tr>\n",
       "    <tr>\n",
       "      <th>16299</th>\n",
       "      <td>Cross-Boarding</td>\n",
       "      <td>WFM</td>\n",
       "      <td>cross_boarding_imc</td>\n",
       "      <td>Cross-boarding: Review Access Request in Iron ...</td>\n",
       "    </tr>\n",
       "    <tr>\n",
       "      <th>16300</th>\n",
       "      <td>Cross-Boarding</td>\n",
       "      <td>WFM</td>\n",
       "      <td>cross_boarding_imc</td>\n",
       "      <td>Cross-boarding: Review Access Request in Iron ...</td>\n",
       "    </tr>\n",
       "    <tr>\n",
       "      <th>16301</th>\n",
       "      <td>Cross-Boarding</td>\n",
       "      <td>WFM</td>\n",
       "      <td>cross_boarding_imc</td>\n",
       "      <td>Cross-boarding: Review Access Request in Iron ...</td>\n",
       "    </tr>\n",
       "    <tr>\n",
       "      <th>16302</th>\n",
       "      <td>Cross-Boarding</td>\n",
       "      <td>WFM</td>\n",
       "      <td>cross_boarding_imc</td>\n",
       "      <td>Cross-boarding: Review Access Request in Iron ...</td>\n",
       "    </tr>\n",
       "  </tbody>\n",
       "</table>\n",
       "<p>16303 rows × 4 columns</p>\n",
       "</div>"
      ],
      "text/plain": [
       "                   cat_item ticket_management                kbid  \\\n",
       "0          Asset Management            Others              Others   \n",
       "1      Service Introduction            Others              Others   \n",
       "2      Service Introduction            Others              Others   \n",
       "3      Service Introduction            Others              Others   \n",
       "4      Service Introduction            Others              Others   \n",
       "...                     ...               ...                 ...   \n",
       "16298        Cross-Boarding               WFM  cross_boarding_imc   \n",
       "16299        Cross-Boarding               WFM  cross_boarding_imc   \n",
       "16300        Cross-Boarding               WFM  cross_boarding_imc   \n",
       "16301        Cross-Boarding               WFM  cross_boarding_imc   \n",
       "16302        Cross-Boarding               WFM  cross_boarding_imc   \n",
       "\n",
       "                                       short_description  \n",
       "0       Dax Studio - Power BI Software Tool Integrati...  \n",
       "1                   DEL-01 - Project Initiation Document  \n",
       "2                   DEL-01 - Project Initiation Document  \n",
       "3                   DEL-01 - Project Initiation Document  \n",
       "4                   DEL-01 - Project Initiation Document  \n",
       "...                                                  ...  \n",
       "16298  Cross-boarding: Review Access Request in Iron ...  \n",
       "16299  Cross-boarding: Review Access Request in Iron ...  \n",
       "16300  Cross-boarding: Review Access Request in Iron ...  \n",
       "16301  Cross-boarding: Review Access Request in Iron ...  \n",
       "16302  Cross-boarding: Review Access Request in Iron ...  \n",
       "\n",
       "[16303 rows x 4 columns]"
      ]
     },
     "execution_count": 12,
     "metadata": {},
     "output_type": "execute_result"
    }
   ],
   "source": [
    "data"
   ]
  },
  {
   "cell_type": "code",
   "execution_count": 13,
   "id": "83922115-a462-4f04-b708-61fe4afeef46",
   "metadata": {},
   "outputs": [
    {
     "name": "stdout",
     "output_type": "stream",
     "text": [
      "                                          precision    recall  f1-score   support\n",
      "\n",
      "                  Basic_Mainframe_Access       1.00      1.00      1.00        15\n",
      "                           Clean_Up_RACF       1.00      1.00      1.00        19\n",
      "                               GuestWifi       1.00      1.00      1.00       109\n",
      "      Kiteworks_Add_User_Existing_Folder       1.00      1.00      1.00        63\n",
      "      Kiteworks_Create_New_Secure_Folder       1.00      1.00      1.00        66\n",
      "          Kiteworks_Remove_Secure_Folder       1.00      1.00      1.00        46\n",
      "            Off_Boarding_Integrity_Check       1.00      1.00      1.00        15\n",
      "                                  Others       1.00      1.00      1.00      2654\n",
      "                 Remove_Mainframe_Access       1.00      1.00      1.00        23\n",
      "                computer_integrity_check       1.00      1.00      1.00        25\n",
      "                   corporate_access_d365       1.00      1.00      1.00        52\n",
      "                      cross_boarding_imc       1.00      1.00      1.00        28\n",
      "                           intune_device       1.00      1.00      1.00        19\n",
      "          kiteworks_modify_secure_folder       1.00      1.00      1.00        16\n",
      "kiteworks_remove_user_from_secure_folder       1.00      1.00      1.00        36\n",
      "              review_offboarding_request       1.00      1.00      1.00        75\n",
      "\n",
      "                                accuracy                           1.00      3261\n",
      "                               macro avg       1.00      1.00      1.00      3261\n",
      "                            weighted avg       1.00      1.00      1.00      3261\n",
      "\n"
     ]
    }
   ],
   "source": [
    "\n",
    "# Encode 'cat_item' as a numerical feature\n",
    "cat_item_encoder = LabelEncoder()\n",
    "data['cat_item_encoded'] = cat_item_encoder.fit_transform(data['cat_item'])\n",
    "\n",
    "# Vectorize 'short_description' using TF-IDF\n",
    "tfidf_vectorizer = TfidfVectorizer(max_features=500)  # Limit features to avoid overfitting\n",
    "short_desc_tfidf = tfidf_vectorizer.fit_transform(data['short_description'])\n",
    "\n",
    "# Combine the encoded and vectorized features\n",
    "X = pd.concat(\n",
    "    [\n",
    "        pd.DataFrame(short_desc_tfidf.toarray(), columns=tfidf_vectorizer.get_feature_names_out()),\n",
    "        data[['cat_item_encoded']].reset_index(drop=True)\n",
    "    ],\n",
    "    axis=1\n",
    ")\n",
    "\n",
    "# Ensure all column names are strings\n",
    "X.columns = X.columns.astype(str)\n",
    "\n",
    "# Encode the target 'kbid'\n",
    "kbid_encoder = LabelEncoder()\n",
    "data['kbid_encoded'] = kbid_encoder.fit_transform(data['kbid'])\n",
    "y = data['kbid_encoded']\n",
    "\n",
    "# Split the data into training and test sets\n",
    "X_train, X_test, y_train, y_test = train_test_split(X, y, test_size=0.2, random_state=42)\n",
    "\n",
    "# Train a Random Forest Classifier\n",
    "model = RandomForestClassifier(random_state=42)\n",
    "model.fit(X_train, y_train)\n",
    "\n",
    "# Evaluate the model\n",
    "y_pred = model.predict(X_test)\n",
    "print(classification_report(y_test, y_pred, target_names=kbid_encoder.classes_))\n",
    "\n"
   ]
  },
  {
   "cell_type": "code",
   "execution_count": 14,
   "id": "5adbfad7-8871-463d-8724-095557702531",
   "metadata": {},
   "outputs": [
    {
     "data": {
      "text/plain": [
       "Index(['01', '02', '03', '04', '05', '06', '07', '08', '09', '10',\n",
       "       ...\n",
       "       'windows', 'wiped', 'with', 'work', 'worknotes', 'workspace', 'write',\n",
       "       'z30', 'zbook', 'cat_item_encoded'],\n",
       "      dtype='object', length=501)"
      ]
     },
     "execution_count": 14,
     "metadata": {},
     "output_type": "execute_result"
    }
   ],
   "source": [
    "X.columns"
   ]
  },
  {
   "cell_type": "code",
   "execution_count": 15,
   "id": "e5bc3125-b530-4d4d-9ec6-df479b813a73",
   "metadata": {},
   "outputs": [],
   "source": [
    "# # Save the encoders and model if needed\n",
    "# joblib.dump(model, 'kbid_predictor_model.pkl')\n",
    "# joblib.dump(cat_item_encoder, 'cat_item_encoder.pkl')\n",
    "# joblib.dump(kbid_encoder, 'kbid_encoder.pkl')\n",
    "# joblib.dump(tfidf_vectorizer, 'tfidf_vectorizer.pkl')"
   ]
  },
  {
   "cell_type": "code",
   "execution_count": 16,
   "id": "7e0abef0-7be4-41bf-86e4-ec6a869b68d4",
   "metadata": {},
   "outputs": [],
   "source": [
    "def predict_kbid(cat_item, short_description):\n",
    "    # Encode the categorical input\n",
    "    cat_item_encoded = cat_item_encoder.transform([cat_item])[0]\n",
    "    \n",
    "    # Vectorize the text input\n",
    "    short_desc_vectorized = tfidf_vectorizer.transform([short_description]).toarray()\n",
    "    \n",
    "    # Create a DataFrame with matching feature names\n",
    "    short_desc_df = pd.DataFrame(short_desc_vectorized, columns=tfidf_vectorizer.get_feature_names_out())\n",
    "    cat_item_df = pd.DataFrame([[cat_item_encoded]], columns=['cat_item_encoded'])\n",
    "    \n",
    "    # Combine features and ensure column names match the training data\n",
    "    input_features = pd.concat([short_desc_df, cat_item_df], axis=1)\n",
    "    input_features = input_features.reindex(columns=X.columns, fill_value=0)  # Align columns\n",
    "    \n",
    "    # Predict the encoded KBID and decode it\n",
    "    kbid_encoded = model.predict(input_features)[0]\n",
    "    return kbid_encoder.inverse_transform([kbid_encoded])[0]\n"
   ]
  },
  {
   "cell_type": "code",
   "execution_count": 17,
   "id": "f0002023-f531-4d26-a0c4-9f18cad34e44",
   "metadata": {},
   "outputs": [
    {
     "name": "stdout",
     "output_type": "stream",
     "text": [
      "Predicted KBID: cross_boarding_imc\n"
     ]
    }
   ],
   "source": [
    "# Example prediction\n",
    "example_prediction = predict_kbid(\"Cross-Boarding\", \"Cross-boarding: Review Access Request in Iron Mountain Connect (IMC)\")\n",
    "print(\"Predicted KBID:\", example_prediction)"
   ]
  },
  {
   "cell_type": "code",
   "execution_count": null,
   "id": "37cb18e6-bddd-4801-b11f-bce229489bfe",
   "metadata": {},
   "outputs": [],
   "source": []
  },
  {
   "cell_type": "code",
   "execution_count": null,
   "id": "85d9121c-c1db-442e-937a-7aebda434434",
   "metadata": {},
   "outputs": [],
   "source": []
  },
  {
   "cell_type": "markdown",
   "id": "b95aee5c-c75c-4c0c-b234-66b88a9c6576",
   "metadata": {},
   "source": [
    "why you have used LabelEncoder for 'kbid' but not vectorize method like tf-idf? \n",
    "ChatGPT said:\n",
    "ChatGPT\n",
    "Great question! The choice of encoding method depends on the type of data and the specific requirements for modeling:\n",
    "\n",
    "Why Use LabelEncoder for kbid?\n",
    "kbid is the target (output) variable, and in this case, it is categorical data representing discrete classes (e.g., knowledge base IDs).\n",
    "\n",
    "Advantages of LabelEncoder for Target:\n",
    "Categorical Nature: Since kbid represents categories, LabelEncoder maps each unique category to a numerical value, which is ideal for classification models.\n",
    "Model Compatibility: Classification models like Random Forest or Logistic Regression typically require numerical target labels to work efficiently.\n",
    "Interpretability: After prediction, the numerical label can easily be mapped back to the original category using LabelEncoder.inverse_transform().\n",
    "Why Not Use TF-IDF for kbid?\n",
    "TF-IDF is suitable for feature extraction from textual data where the relationships between words or terms in the text are critical. For kbid, which is categorical and not textual, TF-IDF would not provide meaningful representation:\n",
    "\n",
    "No Contextual Information: kbid does not carry text-based context that requires vectorization.\n",
    "Simplicity: LabelEncoder is simpler and computationally efficient for categorical outputs.\n",
    "When to Use TF-IDF?\n",
    "We use TF-IDF for short_description because it is a textual feature where the relationships between words can influence the model's decision. TF-IDF converts the text into a numerical matrix suitable for machine learning.\n",
    "\n",
    "Summary of Encoding Choices:\n",
    "Feature/Variable\tNature\tEncoding Used\tReason\n",
    "short_description\tTextual Feature\tTF-IDF\tExtract context and term importance.\n",
    "cat_item\tCategorical Feature\tLabelEncoder\tCompact representation of categories.\n",
    "kbid (target variable)\tCategorical Target\tLabelEncoder\tCategorical labels for classification.\n",
    "Let me know if you'd like further clarification or adjustments!\n"
   ]
  },
  {
   "cell_type": "code",
   "execution_count": null,
   "id": "978fcb0a-35b1-4ed6-a8ba-e51efe95512d",
   "metadata": {},
   "outputs": [],
   "source": []
  },
  {
   "cell_type": "code",
   "execution_count": null,
   "id": "4510ed7e-e33e-43a6-bdaf-510d0e419b26",
   "metadata": {},
   "outputs": [],
   "source": []
  },
  {
   "cell_type": "code",
   "execution_count": null,
   "id": "1757f7b4-65b0-4eab-a439-790b452a8060",
   "metadata": {},
   "outputs": [],
   "source": []
  },
  {
   "cell_type": "code",
   "execution_count": null,
   "id": "e189e57e-2be1-417e-8075-f209115daf9f",
   "metadata": {},
   "outputs": [],
   "source": [
    "## USE word2Vec"
   ]
  },
  {
   "cell_type": "code",
   "execution_count": null,
   "id": "9044cab6-c57e-46bc-88be-6cdbabd5d37c",
   "metadata": {},
   "outputs": [],
   "source": []
  },
  {
   "cell_type": "code",
   "execution_count": null,
   "id": "2ebe82b1-c6bc-4319-a8db-ee64c34dcdf2",
   "metadata": {},
   "outputs": [],
   "source": [
    "pip install gensim"
   ]
  },
  {
   "cell_type": "code",
   "execution_count": null,
   "id": "767064f7-8683-4b7c-82a6-c1f9cbcc345e",
   "metadata": {},
   "outputs": [],
   "source": [
    "from gensim.models import Word2Vec\n",
    "import numpy as np\n",
    "\n",
    "# Tokenize the short descriptions\n",
    "data['short_description_tokenized'] = data['short_description'].str.split()\n",
    "\n",
    "# Train a Word2Vec model\n",
    "w2v_model = Word2Vec(sentences=data['short_description_tokenized'], vector_size=100, window=5, min_count=1, workers=4, sg=1)\n",
    "\n",
    "# Generate sentence embeddings by averaging word vectors\n",
    "def vectorize_sentence(tokens, model, vector_size):\n",
    "    # Create an average vector for the sentence\n",
    "    vectors = [model.wv[word] for word in tokens if word in model.wv]\n",
    "    if len(vectors) > 0:\n",
    "        return np.mean(vectors, axis=0)\n",
    "    else:\n",
    "        return np.zeros(vector_size)\n",
    "\n",
    "data['short_description_vector'] = data['short_description_tokenized'].apply(\n",
    "    lambda tokens: vectorize_sentence(tokens, w2v_model, vector_size=100)\n",
    ")\n",
    "\n",
    "# Create the feature matrix\n",
    "X = pd.DataFrame(data['short_description_vector'].tolist())  # Expand vectors into separate columns\n",
    "X['cat_item_encoded'] = data['cat_item_encoded']\n",
    "\n",
    "# Encode the target 'kbid'\n",
    "data['kbid_encoded'] = kbid_encoder.fit_transform(data['kbid'])\n",
    "y = data['kbid_encoded']\n",
    "\n",
    "# Split the data\n",
    "X_train, X_test, y_train, y_test = train_test_split(X, y, test_size=0.2, random_state=42)\n",
    "\n",
    "# Train the model\n",
    "model = RandomForestClassifier(random_state=42)\n",
    "model.fit(X_train, y_train)\n",
    "\n",
    "# Evaluate the model\n",
    "y_pred = model.predict(X_test)\n",
    "print(classification_report(y_test, y_pred, target_names=kbid_encoder.classes_))\n"
   ]
  },
  {
   "cell_type": "code",
   "execution_count": null,
   "id": "88368c7f-6de0-4777-bf70-a637283bac12",
   "metadata": {},
   "outputs": [],
   "source": []
  },
  {
   "cell_type": "code",
   "execution_count": null,
   "id": "a9bc29d2-6a38-46cc-8481-06b160f58f2b",
   "metadata": {},
   "outputs": [],
   "source": []
  }
 ],
 "metadata": {
  "kernelspec": {
   "display_name": "Python 3 (ipykernel)",
   "language": "python",
   "name": "python3"
  },
  "language_info": {
   "codemirror_mode": {
    "name": "ipython",
    "version": 3
   },
   "file_extension": ".py",
   "mimetype": "text/x-python",
   "name": "python",
   "nbconvert_exporter": "python",
   "pygments_lexer": "ipython3",
   "version": "3.12.2"
  }
 },
 "nbformat": 4,
 "nbformat_minor": 5
}
